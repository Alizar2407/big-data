{
 "cells": [
  {
   "cell_type": "markdown",
   "id": "68877c33-085a-4f6b-a4a7-feede9d0c8e3",
   "metadata": {},
   "source": [
    "# Импортирование необходимых модулей"
   ]
  },
  {
   "cell_type": "code",
   "execution_count": 1,
   "id": "5c54a224-5cab-48a9-81d0-d89e060a69e9",
   "metadata": {},
   "outputs": [],
   "source": [
    "import re\n",
    "from typing import List\n",
    "\n",
    "import pyspark.sql as sql\n",
    "\n",
    "from pyspark import SparkContext, SparkConf\n",
    "from pyspark.sql import SparkSession\n",
    "from pyspark.sql.window import Window\n",
    "from pyspark.sql.types import DoubleType, IntegerType, ArrayType, StringType\n",
    "from pyspark.sql.functions import udf, explode, rank, desc\n",
    "from pyspark.sql.functions import col, max, sum, lower, countDistinct"
   ]
  },
  {
   "cell_type": "markdown",
   "id": "e1f1590a-13bf-4bea-9de1-9372533eb9f1",
   "metadata": {},
   "source": [
    "# Инициализация сессии"
   ]
  },
  {
   "cell_type": "code",
   "execution_count": 2,
   "id": "038bad39-8181-4f65-a2c7-555f9e639336",
   "metadata": {},
   "outputs": [],
   "source": [
    "spark = SparkSession \\\n",
    "    .builder \\\n",
    "    .appName(\"L2_reports_with_apache_spark\") \\\n",
    "    .config(\"spark.jars.packages\", \"com.databricks:spark-xml_2.12:0.13.0\")\\\n",
    "    .getOrCreate()"
   ]
  },
  {
   "cell_type": "code",
   "execution_count": 3,
   "id": "e404cd45-a855-48de-93cf-8b8b5765786a",
   "metadata": {},
   "outputs": [
    {
     "data": {
      "text/plain": [
       "'3.1.2.0-eep-800'"
      ]
     },
     "execution_count": 3,
     "metadata": {},
     "output_type": "execute_result"
    }
   ],
   "source": [
    "spark.version"
   ]
  },
  {
   "cell_type": "markdown",
   "id": "6983f59d-d684-4296-81c0-b6a3dfb98904",
   "metadata": {},
   "source": [
    "# Загрузка данных"
   ]
  },
  {
   "cell_type": "markdown",
   "id": "73492328-ef2c-4a9b-a73e-6171fd3f6405",
   "metadata": {},
   "source": [
    "## Указание путей с файлами датасетов"
   ]
  },
  {
   "cell_type": "code",
   "execution_count": 4,
   "id": "d3b9e550-2243-485d-99d5-cf78baa708a5",
   "metadata": {},
   "outputs": [],
   "source": [
    "import os\n",
    "data_path = os.path.join(os.curdir, \"data\")\n",
    "posts_path = os.path.join(data_path, \"posts_sample.xml\")\n",
    "prog_lang_path = os.path.join(data_path, \"programming-languages.csv\")"
   ]
  },
  {
   "cell_type": "markdown",
   "id": "7af5f647-7891-44a9-84ea-a05996539b7d",
   "metadata": {},
   "source": [
    "## Чтение данных о постах Stack Overflow"
   ]
  },
  {
   "cell_type": "code",
   "execution_count": 5,
   "id": "3944ab72-d0fd-4d6a-9807-d3bf962f7041",
   "metadata": {},
   "outputs": [
    {
     "name": "stdout",
     "output_type": "stream",
     "text": [
      "Posts\n",
      "root\n",
      " |-- _AcceptedAnswerId: long (nullable = true)\n",
      " |-- _AnswerCount: long (nullable = true)\n",
      " |-- _Body: string (nullable = true)\n",
      " |-- _ClosedDate: timestamp (nullable = true)\n",
      " |-- _CommentCount: long (nullable = true)\n",
      " |-- _CommunityOwnedDate: timestamp (nullable = true)\n",
      " |-- _CreationDate: timestamp (nullable = true)\n",
      " |-- _FavoriteCount: long (nullable = true)\n",
      " |-- _Id: long (nullable = true)\n",
      " |-- _LastActivityDate: timestamp (nullable = true)\n",
      " |-- _LastEditDate: timestamp (nullable = true)\n",
      " |-- _LastEditorDisplayName: string (nullable = true)\n",
      " |-- _LastEditorUserId: long (nullable = true)\n",
      " |-- _OwnerDisplayName: string (nullable = true)\n",
      " |-- _OwnerUserId: long (nullable = true)\n",
      " |-- _ParentId: long (nullable = true)\n",
      " |-- _PostTypeId: long (nullable = true)\n",
      " |-- _Score: long (nullable = true)\n",
      " |-- _Tags: string (nullable = true)\n",
      " |-- _Title: string (nullable = true)\n",
      " |-- _ViewCount: long (nullable = true)\n",
      "\n"
     ]
    }
   ],
   "source": [
    "posts_data = spark.read.format('xml').options(rowTag='row').load(posts_path)\n",
    "\n",
    "print(\"Posts\")\n",
    "posts_data.printSchema()"
   ]
  },
  {
   "cell_type": "markdown",
   "id": "cf522166-ee62-4184-9d47-a9567e4427d0",
   "metadata": {},
   "source": [
    "## Чтение данных о языках программирования"
   ]
  },
  {
   "cell_type": "code",
   "execution_count": 6,
   "id": "1d858945-de74-4666-8e7c-8a557f1a8007",
   "metadata": {},
   "outputs": [
    {
     "name": "stdout",
     "output_type": "stream",
     "text": [
      "Programming languages\n",
      "root\n",
      " |-- name: string (nullable = true)\n",
      " |-- wikipedia_url: string (nullable = true)\n",
      "\n"
     ]
    }
   ],
   "source": [
    "prog_lang_data = spark.read\\\n",
    ".option(\"header\", True)\\\n",
    ".option(\"inferSchema\", True)\\\n",
    ".option(\"timestampFormat\", 'M/d/y H:m')\\\n",
    ".csv(prog_lang_path)\n",
    "\n",
    "print(\"Programming languages\")\n",
    "prog_lang_data.printSchema()"
   ]
  },
  {
   "cell_type": "markdown",
   "id": "4837ddd7-be02-44aa-b76f-87c7ea8e4859",
   "metadata": {},
   "source": [
    "# Работа с данными"
   ]
  },
  {
   "cell_type": "markdown",
   "id": "e50d7a3a-8882-4775-a8ab-29725a1fe161",
   "metadata": {},
   "source": [
    "## Функции для обработки содержимого столбцов с тегами и датой последней активности поста"
   ]
  },
  {
   "cell_type": "code",
   "execution_count": 7,
   "id": "b7a0e348-ece0-4e49-8eb3-59d055b3fc72",
   "metadata": {},
   "outputs": [],
   "source": [
    "def get_tags(tags_string):\n",
    "    if tags_string is None:\n",
    "        return []\n",
    "    \n",
    "    pattern = r'<(.+?)>'\n",
    "    tags = re.findall(pattern, tags_string)\n",
    "    \n",
    "    return tags\n",
    "\n",
    "def get_year(date_and_time):\n",
    "    return date_and_time.year\n",
    "\n",
    "get_tags_udf = udf(get_tags, ArrayType(StringType()))\n",
    "get_year_udf = udf(get_year, IntegerType())"
   ]
  },
  {
   "cell_type": "markdown",
   "id": "d6d5036c-1f0d-4379-a70f-5fc8674fce3c",
   "metadata": {},
   "source": [
    "## Выбор необходимых столбцов"
   ]
  },
  {
   "cell_type": "code",
   "execution_count": 8,
   "id": "5a0a1004-e951-46fd-9bf2-161ae38114ef",
   "metadata": {},
   "outputs": [
    {
     "name": "stdout",
     "output_type": "stream",
     "text": [
      "+--------------------+----+------+\n",
      "|                tags|year| views|\n",
      "+--------------------+----+------+\n",
      "|[c#, floating-poi...|2019| 42817|\n",
      "|[html, css, inter...|2019| 18214|\n",
      "|                  []|2017|  null|\n",
      "|[c#, .net, datetime]|2019|555183|\n",
      "|[c#, datetime, ti...|2019|149445|\n",
      "|                  []|2018|  null|\n",
      "|[html, browser, t...|2019|176405|\n",
      "|        [.net, math]|2018|123231|\n",
      "|                  []|2010|  null|\n",
      "|                  []|2010|  null|\n",
      "|                  []|2010|  null|\n",
      "|                  []|2010|  null|\n",
      "|                  []|2010|  null|\n",
      "|                  []|2010|  null|\n",
      "|                  []|2010|  null|\n",
      "|                  []|2010|  null|\n",
      "|                  []|2010|  null|\n",
      "|                  []|2010|  null|\n",
      "|                  []|2013|  null|\n",
      "|                  []|2010|  null|\n",
      "+--------------------+----+------+\n",
      "only showing top 20 rows\n",
      "\n"
     ]
    }
   ],
   "source": [
    "# Применение приведенных выше функция для преобразования данных в нужный вид\n",
    "posts_data_simplified = posts_data \\\n",
    "                        .withColumn(\"tags\", get_tags_udf(posts_data[\"_Tags\"])) \\\n",
    "                        .withColumn(\"year\", get_year_udf(posts_data[\"_LastActivityDate\"]))\n",
    "\n",
    "# Выбор только нужных столбцов\n",
    "posts_data_simplified = posts_data_simplified.select(\n",
    "    col(\"tags\"),\n",
    "    col(\"year\"),\n",
    "    col(\"_ViewCount\").alias(\"views\")\n",
    ")\n",
    "\n",
    "# Отображение полученных данных\n",
    "posts_data_simplified.show()"
   ]
  },
  {
   "cell_type": "markdown",
   "id": "8e6a49b0-56e3-4588-bed5-ae9668aa9ae5",
   "metadata": {},
   "source": [
    "## Удаление тегов, не соответствующих языкам программирования"
   ]
  },
  {
   "cell_type": "code",
   "execution_count": 9,
   "id": "25cb5cc2-30d2-4c39-a95d-c125656787a7",
   "metadata": {},
   "outputs": [
    {
     "name": "stdout",
     "output_type": "stream",
     "text": [
      "+----+-----------+-----+\n",
      "|year|        tag|views|\n",
      "+----+-----------+-----+\n",
      "|2010|       java|  132|\n",
      "|2010|        php| 1258|\n",
      "|2015|       ruby| 9649|\n",
      "|2010|          c| 2384|\n",
      "|2015|        php| 1987|\n",
      "|2010|     python| 3321|\n",
      "|2010| javascript|  128|\n",
      "|2010|applescript|  477|\n",
      "|2010|        php| 1748|\n",
      "|2010|        php|  998|\n",
      "|2013| javascript| 2095|\n",
      "|2010|        sed|  447|\n",
      "|2015|     python| 6558|\n",
      "|2015|       java|  214|\n",
      "|2015|       ruby|  214|\n",
      "|2013|objective-c|  852|\n",
      "|2010| javascript|  179|\n",
      "|2010|          r| 6709|\n",
      "|2010|        php|   78|\n",
      "|2010| javascript| 1280|\n",
      "+----+-----------+-----+\n",
      "only showing top 20 rows\n",
      "\n"
     ]
    }
   ],
   "source": [
    "# Добавление столбца, содержащего название языка программирования, но в нижнем регистре\n",
    "prog_lang_data_modified = prog_lang_data.withColumn(\"tag_lowercase\", lower(prog_lang_data[\"name\"]))\n",
    "\n",
    "# Разбиение массива тегов на отдельные столбцы\n",
    "posts_data_filtered = posts_data_simplified.select(\"year\", explode(\"tags\").alias(\"tag\"), \"views\")\n",
    "\n",
    "# Объединение таблиц для того, чтобы оставить только те строки, где поле tag у постов является языком программирования\n",
    "posts_data_filtered = posts_data_filtered.join(prog_lang_data_modified, \n",
    "                                    (posts_data_filtered[\"tag\"] == prog_lang_data_modified[\"tag_lowercase\"]), \n",
    "                                    \"inner\")\n",
    "\n",
    "# Выбор нужных столбцов\n",
    "posts_data_filtered = posts_data_filtered.select(\"year\", \"tag\", \"views\")\n",
    "\n",
    "# Отображение результата\n",
    "posts_data_filtered.show()"
   ]
  },
  {
   "cell_type": "markdown",
   "id": "274922b5-3583-4f7b-bdd1-0bd1079e485c",
   "metadata": {},
   "source": [
    "## Составление полного отчета"
   ]
  },
  {
   "cell_type": "code",
   "execution_count": 10,
   "id": "0967b9ff-cf1c-4ded-83d4-5601827ce30b",
   "metadata": {},
   "outputs": [
    {
     "name": "stdout",
     "output_type": "stream",
     "text": [
      "+----+------------+-----------+\n",
      "|year|         tag|total_views|\n",
      "+----+------------+-----------+\n",
      "|2008|        java|      11532|\n",
      "|2008|        ruby|       1843|\n",
      "|2008|         x++|       1363|\n",
      "|2009|      python|      32219|\n",
      "|2009|  javascript|      17139|\n",
      "|2009|           c|      16356|\n",
      "|2009|        java|      13533|\n",
      "|2009|         php|      12876|\n",
      "|2009|        bash|       4410|\n",
      "|2009|     haskell|       3992|\n",
      "|2009|       xpath|       3869|\n",
      "|2009| objective-c|       3671|\n",
      "|2009|      delphi|       3477|\n",
      "|2009|        ruby|       2844|\n",
      "|2009|  powershell|        536|\n",
      "|2009|actionscript|        318|\n",
      "|2010|        java|      53333|\n",
      "|2010|      matlab|      51865|\n",
      "|2010| objective-c|      43878|\n",
      "|2010|         php|      39730|\n",
      "+----+------------+-----------+\n",
      "only showing top 20 rows\n",
      "\n"
     ]
    }
   ],
   "source": [
    "# Группировка по году последней активности и тегам, суммирование всех просмотров для каждого языка программирования в пределах одного года\n",
    "posts_data_sorted = posts_data_filtered.groupBy(\"year\", \"tag\").agg(sum(\"views\").alias(\"total_views\"))\n",
    "\n",
    "# Сортировка по году и количеству просмотров\n",
    "posts_data_sorted = posts_data_sorted.orderBy(\"year\", desc(\"total_views\"))\n",
    "\n",
    "# Отображение результата\n",
    "posts_data_sorted.show()"
   ]
  },
  {
   "cell_type": "markdown",
   "id": "e9473f4d-91d8-4e68-b3f0-9d1cae92912e",
   "metadata": {},
   "source": [
    "## Составление итогового отчета (N самых популярных языков программирования за год)"
   ]
  },
  {
   "cell_type": "code",
   "execution_count": 11,
   "id": "089ad1aa-8f74-4c13-bb17-6483c174be9b",
   "metadata": {},
   "outputs": [
    {
     "name": "stdout",
     "output_type": "stream",
     "text": [
      "+----+-----------+-----------+\n",
      "|year|        tag|total_views|\n",
      "+----+-----------+-----------+\n",
      "|2008|       java|      11532|\n",
      "|2008|       ruby|       1843|\n",
      "|2008|        x++|       1363|\n",
      "|2009|     python|      32219|\n",
      "|2009| javascript|      17139|\n",
      "|2009|          c|      16356|\n",
      "|2009|       java|      13533|\n",
      "|2009|        php|      12876|\n",
      "|2009|       bash|       4410|\n",
      "|2009|    haskell|       3992|\n",
      "|2009|      xpath|       3869|\n",
      "|2009|objective-c|       3671|\n",
      "|2009|     delphi|       3477|\n",
      "|2010|       java|      53333|\n",
      "|2010|     matlab|      51865|\n",
      "|2010|objective-c|      43878|\n",
      "|2010|        php|      39730|\n",
      "|2010| javascript|      37059|\n",
      "|2010|     python|      25930|\n",
      "|2010|       ruby|      15864|\n",
      "+----+-----------+-----------+\n",
      "only showing top 20 rows\n",
      "\n"
     ]
    }
   ],
   "source": [
    "# Разбиение по году последней активности для нумерации языков программирования в соответствии с их популярностью\n",
    "window_spec = Window.partitionBy(\"year\").orderBy(posts_data_sorted[\"total_views\"].desc())\n",
    "\n",
    "# Добавление столбца rank, определяющего положение языка программирования в топе\n",
    "posts_data_with_ranks = posts_data_sorted.withColumn(\"rank\", rank().over(window_spec))\n",
    "\n",
    "# Оставляем только первые N языков программирования для каждого года\n",
    "languages_per_year = 10\n",
    "posts_data_sorted_result = posts_data_with_ranks.filter(posts_data_with_ranks[\"rank\"] <= languages_per_year)\n",
    "\n",
    "# Удаление столбца rank\n",
    "posts_data_sorted_result = posts_data_sorted_result.drop(col(\"rank\"))\n",
    "\n",
    "# Сортировка по году и количеству просмотров\n",
    "posts_data_sorted_result = posts_data_sorted_result.orderBy(\"year\", desc(\"total_views\"))\n",
    "\n",
    "# Отображение результата\n",
    "posts_data_sorted_result.show()"
   ]
  },
  {
   "cell_type": "markdown",
   "id": "2aa7364d-b6ea-4f09-acac-fbc0e1d88523",
   "metadata": {},
   "source": [
    "## Сохранение результата в формате Apache Parquet"
   ]
  },
  {
   "cell_type": "code",
   "execution_count": 12,
   "id": "b3425421-25e9-4aca-a24f-d3764f19b7ce",
   "metadata": {},
   "outputs": [],
   "source": [
    "posts_data_sorted_result.write.parquet(\"/user/sergei_sgibnev/output\")"
   ]
  },
  {
   "cell_type": "code",
   "execution_count": 13,
   "id": "92648372-cfa2-4395-8dfb-7346dbfa61d2",
   "metadata": {},
   "outputs": [
    {
     "name": "stdout",
     "output_type": "stream",
     "text": [
      "Found 4 items\n",
      "drwxr-xr-x   - sergei_sgibnev sergei_sgibnev          3 2023-11-07 13:05 /user/sergei_sgibnev/.sparkStaging\n",
      "drwxr-xr-x   - sergei_sgibnev sergei_sgibnev          6 2023-11-06 14:14 /user/sergei_sgibnev/data\n",
      "drwxr-xr-x   - sergei_sgibnev sergei_sgibnev        114 2023-11-07 13:07 /user/sergei_sgibnev/output\n",
      "drwxr-xr-x   - sergei_sgibnev sergei_sgibnev          0 2023-11-03 17:46 /user/sergei_sgibnev/spark-warehouse\n"
     ]
    }
   ],
   "source": [
    "!hadoop fs -ls /user/sergei_sgibnev"
   ]
  },
  {
   "cell_type": "code",
   "execution_count": 14,
   "id": "01a332ee-a6ac-4afe-8d22-a79cb209da8b",
   "metadata": {},
   "outputs": [],
   "source": [
    "!hadoop fs -get /user/sergei_sgibnev/output output"
   ]
  }
 ],
 "metadata": {
  "kernelspec": {
   "display_name": "Python 3",
   "language": "python",
   "name": "python3"
  },
  "language_info": {
   "codemirror_mode": {
    "name": "ipython",
    "version": 3
   },
   "file_extension": ".py",
   "mimetype": "text/x-python",
   "name": "python",
   "nbconvert_exporter": "python",
   "pygments_lexer": "ipython3",
   "version": "3.9.5"
  }
 },
 "nbformat": 4,
 "nbformat_minor": 5
}
